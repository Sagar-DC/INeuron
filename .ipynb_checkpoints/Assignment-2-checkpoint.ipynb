{
 "cells": [
  {
   "cell_type": "markdown",
   "metadata": {},
   "source": [
    "## Task 1"
   ]
  },
  {
   "cell_type": "markdown",
   "metadata": {},
   "source": [
    "#### 1.1 Write a Python Program to implement your own myreduce() function which works exactly like Python's built-in function reduce()"
   ]
  },
  {
   "cell_type": "code",
   "execution_count": 28,
   "metadata": {},
   "outputs": [],
   "source": [
    "def myreduce(myfun, seq):\n",
    "    result = seq[0]\n",
    "    for i in seq[1:]:\n",
    "        result = myfun(result, i)\n",
    "    return result"
   ]
  },
  {
   "cell_type": "code",
   "execution_count": 39,
   "metadata": {},
   "outputs": [
    {
     "data": {
      "text/plain": [
       "23"
      ]
     },
     "execution_count": 39,
     "metadata": {},
     "output_type": "execute_result"
    }
   ],
   "source": [
    "def summ(a, b):\n",
    "    return a + b\n",
    "\n",
    "lst = [1,2,3,4,5,8]\n",
    "\n",
    "# Checking myreduce function\n",
    "myreduce(summ, lst)"
   ]
  },
  {
   "cell_type": "markdown",
   "metadata": {},
   "source": [
    "#### 1.2 Write a Python program to implement your own myfilter() function which works exactly like Python's built-in function filter()"
   ]
  },
  {
   "cell_type": "code",
   "execution_count": 1,
   "metadata": {},
   "outputs": [],
   "source": [
    "# function will return +ve numbers\n",
    "def myfilter(myfun, lst):\n",
    "    res_lst = []\n",
    "    for i in lst:\n",
    "        if myfun(i):\n",
    "            res_lst.append(i)\n",
    "    return res_lst"
   ]
  },
  {
   "cell_type": "code",
   "execution_count": 2,
   "metadata": {},
   "outputs": [
    {
     "data": {
      "text/plain": [
       "True"
      ]
     },
     "execution_count": 2,
     "metadata": {},
     "output_type": "execute_result"
    }
   ],
   "source": [
    "def pos_nums(x):\n",
    "    if x > 0:\n",
    "        return True\n",
    "    else:\n",
    "        return False\n",
    "\n",
    "pos_nums(5)"
   ]
  },
  {
   "cell_type": "code",
   "execution_count": 3,
   "metadata": {},
   "outputs": [
    {
     "data": {
      "text/plain": [
       "[5, 89, 10, 555]"
      ]
     },
     "execution_count": 3,
     "metadata": {},
     "output_type": "execute_result"
    }
   ],
   "source": [
    "# Checking myfilter function\n",
    "lst = [5, -4, 89, -8, 10, -555, 555]\n",
    "\n",
    "myfilter(pos_nums, lst)"
   ]
  },
  {
   "cell_type": "markdown",
   "metadata": {},
   "source": [
    "#### 2 Write List comprehensions to produce the following Lists\n",
    "\n",
    "####    Write List comprehensions to produce the following Lists\n",
    "       ['A', 'C', 'A', 'D', 'G', 'I', ’L’, ‘ D’] \n",
    "\n",
    "       ['x', 'xx', 'xxx', 'xxxx', 'y', 'yy', 'yyy', 'yyyy', 'z', 'zz', 'zzz', 'zzzz\n",
    "\n",
    "       ['x', 'y', 'z', 'xx', 'yy', 'zz', 'xx', 'yy', 'zz', 'xxxx', 'yyyy', 'zzzz\n",
    "\n",
    "       [[2], [3], [4], [3], [4], [5], [4], [5], [6]]\n",
    "\n",
    "       [[2, 3, 4, 5], [3, 4, 5, 6], [4, 5, 6, 7], [5, 6, 7, 8]]\n",
    "       \n",
    "       [(1, 1), (2, 1), (3, 1), (1, 2), (2, 2), (3, 2), (1, 3), (2, 3), (3, 3)]"
   ]
  },
  {
   "cell_type": "code",
   "execution_count": 126,
   "metadata": {},
   "outputs": [
    {
     "name": "stdout",
     "output_type": "stream",
     "text": [
      "\"['x', 'y', 'z']\" : ['x', 'xx', 'xxx', 'xxxx', 'y', 'yy', 'yyy', 'yyyy', 'z', 'zz', 'zzz', 'zzzz']\n"
     ]
    }
   ],
   "source": [
    "#['A', 'C', 'A', 'D', 'G', 'I', ’L’, ‘ D’]\n",
    "word = \"ACADGILD\"\n",
    "letter_list = [letter for letter in word]\n",
    "\n",
    "print( '\"' + str(inp_lst) + '\" :' , result)"
   ]
  },
  {
   "cell_type": "code",
   "execution_count": 125,
   "metadata": {},
   "outputs": [
    {
     "name": "stdout",
     "output_type": "stream",
     "text": [
      "\"['x', 'y', 'z']\" : ['x', 'xx', 'xxx', 'xxxx', 'y', 'yy', 'yyy', 'yyyy', 'z', 'zz', 'zzz', 'zzzz']\n"
     ]
    }
   ],
   "source": [
    "# ['x', 'xx', 'xxx', 'xxxx', 'y', 'yy', 'yyy', 'yyyy', 'z', 'zz', 'zzz', 'zzzz']\n",
    "inp_lst = ['x','y','z']\n",
    "result = [ item*num for item in inp_lst for num in range(1,5)  ]\n",
    "\n",
    "print( '\"' + str(inp_lst) + '\" :' , result)"
   ]
  },
  {
   "cell_type": "code",
   "execution_count": 124,
   "metadata": {},
   "outputs": [
    {
     "name": "stdout",
     "output_type": "stream",
     "text": [
      "\"['x', 'y', 'z']\" : ['x', 'y', 'z', 'xx', 'yy', 'zz', 'xxx', 'yyy', 'zzz', 'xxxx', 'yyyy', 'zzzz']\n"
     ]
    }
   ],
   "source": [
    "# ['x', 'y', 'z', 'xx', 'yy', 'zz', 'xx', 'yy', 'zz', 'xxxx', 'yyyy', 'zzzz\n",
    "inp_lst = ['x','y','z']\n",
    "result = [ item*num for num in range(1,5) for item in inp_lst  ]\n",
    "\n",
    "print( '\"' + str(inp_lst) + '\" :' , result)"
   ]
  },
  {
   "cell_type": "code",
   "execution_count": 123,
   "metadata": {},
   "outputs": [
    {
     "name": "stdout",
     "output_type": "stream",
     "text": [
      "\"[2, 3, 4]\" : [[2], [3], [4], [3], [4], [5], [4], [5], [6]]\n"
     ]
    }
   ],
   "source": [
    "# [[2], [3], [4], [3], [4], [5], [4], [5], [6]]\n",
    "inp_lst = [2,3,4]\n",
    "result = [ [item+num] for item in inp_lst for num in range(0,3)]\n",
    "\n",
    "print( '\"' + str(inp_lst) + '\" :' , result)"
   ]
  },
  {
   "cell_type": "code",
   "execution_count": 122,
   "metadata": {},
   "outputs": [
    {
     "name": "stdout",
     "output_type": "stream",
     "text": [
      "\"[2, 3, 4, 5]\" => [[2, 3, 4, 5], [3, 4, 5, 6], [4, 5, 6, 7], [5, 6, 7, 8]]\n"
     ]
    }
   ],
   "source": [
    "# [[2, 3, 4, 5], [3, 4, 5, 6], [4, 5, 6, 7], [5, 6, 7, 8]]\n",
    "inp_lst = [2,3,4,5]\n",
    "result = [ [ item+num for item in inp_lst ] for num in range(0,4)]\n",
    "\n",
    "print( '\"' + str(inp_lst) + '\" =>' , result)"
   ]
  },
  {
   "cell_type": "code",
   "execution_count": 127,
   "metadata": {},
   "outputs": [
    {
     "name": "stdout",
     "output_type": "stream",
     "text": [
      "\"(1, 2, 3)\" => [(1, 1), (2, 1), (3, 1), (1, 2), (2, 2), (3, 2), (1, 3), (2, 3), (3, 3)]\n"
     ]
    }
   ],
   "source": [
    "# [(1, 1), (2, 1), (3, 1), (1, 2), (2, 2), (3, 2), (1, 3), (2, 3), (3, 3)]\n",
    "inp_lst = (1,2,3)\n",
    "\n",
    "result = [ (item2, item1 ) for item1 in inp_lst for item2 in inp_lst ]\n",
    "\n",
    "print( '\"' + str(inp_lst) + '\" =>' , result)"
   ]
  },
  {
   "cell_type": "markdown",
   "metadata": {},
   "source": [
    "#### 3 Implement a function longestWord() that takes a list of words and returns the longest one."
   ]
  },
  {
   "cell_type": "code",
   "execution_count": 132,
   "metadata": {},
   "outputs": [],
   "source": [
    "def longestWord(lst):\n",
    "    long_word = lst[0]\n",
    "    for word in lst[1:]:\n",
    "        if len(long_word) < len(word):\n",
    "            long_word = word\n",
    "    return long_word"
   ]
  },
  {
   "cell_type": "code",
   "execution_count": 133,
   "metadata": {},
   "outputs": [
    {
     "data": {
      "text/plain": [
       "'Vallal'"
      ]
     },
     "execution_count": 133,
     "metadata": {},
     "output_type": "execute_result"
    }
   ],
   "source": [
    "lst = [\"Sagar\", \"DC\", \"Vallal\"]\n",
    "longestWord(lst)"
   ]
  },
  {
   "cell_type": "markdown",
   "metadata": {},
   "source": [
    "## Task 2"
   ]
  },
  {
   "cell_type": "markdown",
   "metadata": {},
   "source": [
    "#### 1.1 Write a Python Program(with class concepts) to find the area of the triangle using the below formula.\n",
    "\n",
    "####       area = (s*(s-a)*(s-b)*(s-c)) ** 0.5\n",
    "\n",
    "####      Function to take the length of the sides of triangle from user should be defined in the parent class and function to calculate the ####      area should be defined in subclass."
   ]
  },
  {
   "cell_type": "code",
   "execution_count": 89,
   "metadata": {},
   "outputs": [],
   "source": [
    "class sides_of_triangle():\n",
    "    def __init__(self, no_of_sides):\n",
    "        self.n = no_of_sides\n",
    "    \n",
    "    def inputSides(self):\n",
    "        self.sides = [float(input(\"Enter side \"+str(i+1)+\" : \")) for i in range(self.n)]\n",
    "  \n",
    "\n",
    "class area_of_triangle(takesides):\n",
    "    def __init__(self):\n",
    "        sides_of_triangle.__init__(self,3)\n",
    "    \n",
    "    def cal_area(self):\n",
    "        a, b, c = self.sides\n",
    "        s = (a + b + c) / 2\n",
    "        area = (s*(s-a)*(s-b)*(s-c)) ** 0.5\n",
    "        print(\"\\nArea of Triangle is %2f\" %area)"
   ]
  },
  {
   "cell_type": "code",
   "execution_count": 90,
   "metadata": {
    "scrolled": true
   },
   "outputs": [
    {
     "name": "stdout",
     "output_type": "stream",
     "text": [
      "Enter length of side 1:5\n",
      "Enter length of side 2:5\n",
      "Enter length of side 3:5\n",
      "\n",
      "Area of Triangle is 10.825318\n"
     ]
    }
   ],
   "source": [
    "tri = area_of_triangle()\n",
    "\n",
    "tri.inputSides()\n",
    "\n",
    "tri.cal_area()"
   ]
  },
  {
   "cell_type": "markdown",
   "metadata": {},
   "source": [
    "#### 1.2 Write a function filter_long_words() that takes a list of words and an integer n and returns the list of words that are longer than n."
   ]
  },
  {
   "cell_type": "code",
   "execution_count": 101,
   "metadata": {},
   "outputs": [],
   "source": [
    "def filter_long_words(lst, n):\n",
    "    opt_lst = []\n",
    "    for word in lst:\n",
    "        if len(word) > n:\n",
    "            opt_lst.append(word)\n",
    "            \n",
    "    return opt_lst"
   ]
  },
  {
   "cell_type": "code",
   "execution_count": 104,
   "metadata": {},
   "outputs": [
    {
     "data": {
      "text/plain": [
       "['function', 'longer', 'integer', 'returns']"
      ]
     },
     "execution_count": 104,
     "metadata": {},
     "output_type": "execute_result"
    }
   ],
   "source": [
    "inp_lst = [\"function\", \"longer\", \"an\", \"takes\", \"integer\", \"returns\", \"list\"]\n",
    "n = 5\n",
    "\n",
    "filter_long_words(inp_lst, n)"
   ]
  },
  {
   "cell_type": "markdown",
   "metadata": {},
   "source": [
    "#### 2.1 Write a Python program using function concept that maps list of words into a list of integers representing the lengths of the ####       corresponding words .\n",
    "####       Hint: If a list [ ab,cde,erty] is passed on to the python function output should come as [2,3,4]\n",
    "####       Here 2,3 and 4 are the lengths of the words in the list."
   ]
  },
  {
   "cell_type": "code",
   "execution_count": 117,
   "metadata": {},
   "outputs": [],
   "source": [
    "def len_of_words(lst):\n",
    "    return list(map(lambda x : len(x), lst))"
   ]
  },
  {
   "cell_type": "code",
   "execution_count": 123,
   "metadata": {},
   "outputs": [
    {
     "data": {
      "text/plain": [
       "[2, 3, 4]"
      ]
     },
     "execution_count": 123,
     "metadata": {},
     "output_type": "execute_result"
    }
   ],
   "source": [
    "lst = [\"ab\", \"cde\", \"erty\"]\n",
    "\n",
    "len_of_words(lst)"
   ]
  },
  {
   "cell_type": "markdown",
   "metadata": {},
   "source": [
    "#### 2.2 Write a Python function which takes a character (i.e. a string of length 1) and returns True if it is a vowel, False otherwise."
   ]
  },
  {
   "cell_type": "code",
   "execution_count": 168,
   "metadata": {},
   "outputs": [],
   "source": [
    "def vowel_check():\n",
    "    vowels = \"aeiou\"\n",
    "    char = input(\"Enter a Character: \")\n",
    "    \n",
    "    if (char.isalpha() == True):\n",
    "        if len(char) == 1:\n",
    "            if char in vowels:\n",
    "                return True\n",
    "            else:\n",
    "                return False\n",
    "        else:\n",
    "            print(\"\\nEnter Char of length 1\")\n",
    "    else:\n",
    "        print(\"\\nEntered Char is not an alpha character\")"
   ]
  },
  {
   "cell_type": "code",
   "execution_count": 173,
   "metadata": {},
   "outputs": [
    {
     "name": "stdout",
     "output_type": "stream",
     "text": [
      "Returns True if the Char is Vowel\n",
      "Enter a Character: a\n"
     ]
    },
    {
     "data": {
      "text/plain": [
       "True"
      ]
     },
     "execution_count": 173,
     "metadata": {},
     "output_type": "execute_result"
    }
   ],
   "source": [
    "print(\"Returns True if the Char is Vowel\")\n",
    "vowel_check()"
   ]
  },
  {
   "cell_type": "code",
   "execution_count": 174,
   "metadata": {},
   "outputs": [
    {
     "name": "stdout",
     "output_type": "stream",
     "text": [
      "Returns True if the Char is Vowel\n",
      "Enter a Character: aa\n",
      "\n",
      "Enter Char of length 1\n"
     ]
    }
   ],
   "source": [
    "print(\"Returns True if the Char is Vowel\")\n",
    "vowel_check()"
   ]
  }
 ],
 "metadata": {
  "kernelspec": {
   "display_name": "Python 3",
   "language": "python",
   "name": "python3"
  },
  "language_info": {
   "codemirror_mode": {
    "name": "ipython",
    "version": 3
   },
   "file_extension": ".py",
   "mimetype": "text/x-python",
   "name": "python",
   "nbconvert_exporter": "python",
   "pygments_lexer": "ipython3",
   "version": "3.7.3"
  }
 },
 "nbformat": 4,
 "nbformat_minor": 2
}
